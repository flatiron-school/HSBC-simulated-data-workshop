{
 "cells": [
  {
   "cell_type": "markdown",
   "metadata": {},
   "source": [
    "# Generating Simulated Data in Python\n",
    "\n",
    "Agenda:\n",
    "- Tools for generating simulated data\n",
    "- Examples with Python\n",
    "\n",
    "## Tools for creating simulated data in Python:\n",
    "- [random](https://docs.python.org/3/library/random.html)\n",
    "- [numpy](https://numpy.org/doc/1.16/reference/routines.random.html)\n",
    "- [scipy](https://docs.scipy.org/doc/scipy/reference/stats.html#probability-distributions)\n",
    "- [scikit-learn](https://scikit-learn.org/stable/datasets/sample_generators.html)"
   ]
  },
  {
   "cell_type": "code",
   "execution_count": null,
   "metadata": {},
   "outputs": [],
   "source": [
    "#import necessary packages\n",
    "import pandas as pd\n",
    "import numpy as np\n",
    "import matplotlib.pyplot as plt\n",
    "from scipy import stats\n",
    "from sklearn.datasets import make_blobs\n",
    "from faker import Faker"
   ]
  },
  {
   "cell_type": "markdown",
   "metadata": {},
   "source": [
    "### Simulated data with numpy\n",
    "\n",
    "- np.random.seed\n",
    "- np.random.randint\n",
    "- np.linspace\n",
    "- np.random.choice\n",
    "- numpy distributions"
   ]
  },
  {
   "cell_type": "code",
   "execution_count": null,
   "metadata": {},
   "outputs": [],
   "source": []
  },
  {
   "cell_type": "code",
   "execution_count": null,
   "metadata": {},
   "outputs": [],
   "source": []
  },
  {
   "cell_type": "markdown",
   "metadata": {},
   "source": [
    "### Simulated data with scipy.stats\n",
    "- Distributions\n",
    "- Sampling random variables from a distribution\n",
    "- USE `random_state`"
   ]
  },
  {
   "cell_type": "code",
   "execution_count": null,
   "metadata": {},
   "outputs": [],
   "source": []
  },
  {
   "cell_type": "code",
   "execution_count": null,
   "metadata": {},
   "outputs": [],
   "source": []
  },
  {
   "cell_type": "markdown",
   "metadata": {},
   "source": [
    "## Practical Examples with Python\n",
    "\n",
    "- Simulated dataset with sklearn\n",
    "- Generate data based purely on background knowledge\n",
    "- Simulate data on previous model\n",
    "- Generate data from real dataset\n",
    "- Anonymize private information"
   ]
  },
  {
   "cell_type": "markdown",
   "metadata": {},
   "source": [
    "## Example 1\n",
    "\n",
    "Simulated classification dataset with sklearn `make_blobs`"
   ]
  },
  {
   "cell_type": "code",
   "execution_count": null,
   "metadata": {},
   "outputs": [],
   "source": []
  },
  {
   "cell_type": "code",
   "execution_count": null,
   "metadata": {},
   "outputs": [],
   "source": []
  },
  {
   "cell_type": "markdown",
   "metadata": {},
   "source": [
    "## Example 2\n",
    "\n",
    "Generate simulated data based on background knowledge.\n",
    "\n",
    "We work for a school who is implementing a new grading platform. They don't want to input any actual grades until they know the system works and is secure so they ask you to generate some simulated data for them to test it on.\n",
    "\n",
    "The school asks you to simulate the average overall grade of 1,000 students.\n",
    "\n",
    "They give you the following information:\n",
    "- Student grades follow a normal distribution\n",
    "- The mean overall grade is 77 with a standard deviation of 9"
   ]
  },
  {
   "cell_type": "code",
   "execution_count": null,
   "metadata": {},
   "outputs": [],
   "source": []
  },
  {
   "cell_type": "code",
   "execution_count": null,
   "metadata": {},
   "outputs": [],
   "source": []
  },
  {
   "cell_type": "markdown",
   "metadata": {},
   "source": [
    "## Example 3\n",
    "\n",
    "Let's look at another real world example. Assume we are an analyst working for a small e-commerce store and we want to generate simulated data on the relationship between monthly advertising costs and total monthly sales.\n",
    "\n",
    "From a previous analysis, we know the relationship between advertising costs and total monthly sales can be described with the following linear equation:\n",
    "\n",
    "`total_monthly_sales = 92.64 * advertising_costs + 26.57`\n",
    "\n",
    "Interpretation:\n",
    "- For every additional dollar spent on advertising, we expect total sales to increase by \\\\$92.64\n",
    "- If we spend \\\\$0 on advertising, we expect total sales to be \\\\$26.57\n",
    "\n",
    "We spend between \\\\$0 and \\\\$500 on advertising monthly. Let's use numpy to simulate 100 data points."
   ]
  },
  {
   "cell_type": "code",
   "execution_count": null,
   "metadata": {},
   "outputs": [],
   "source": [
    "# Simulate 100 points between 0 and 500\n",
    "monthly_costs = None"
   ]
  },
  {
   "cell_type": "markdown",
   "metadata": {},
   "source": [
    "Utilize numpy's vector operations to estimate `total_monthly_sales` for each possible advertising cost value"
   ]
  },
  {
   "cell_type": "code",
   "execution_count": null,
   "metadata": {},
   "outputs": [],
   "source": [
    "# Calculate total_monthly_sales using monthly_costs and model above\n",
    "total_monthly_sales = None"
   ]
  },
  {
   "cell_type": "markdown",
   "metadata": {},
   "source": [
    "Visualize in a line plot"
   ]
  },
  {
   "cell_type": "code",
   "execution_count": null,
   "metadata": {},
   "outputs": [],
   "source": [
    "# Replace None with appropriate variables\n",
    "\n",
    "plt.figure(figsize=(10,6))\n",
    "plt.plot(None, None)\n",
    "plt.title('Monthly Advertising Costs vs Estimated Total Sales', fontsize=18)\n",
    "plt.xlabel('Monthly Advertising Costs ($)', fontsize=15)\n",
    "plt.ylabel('Total Monthly Sales ($)', fontsize=15);"
   ]
  },
  {
   "cell_type": "markdown",
   "metadata": {},
   "source": [
    "While this linear equation models the relationship quite well, we know real world data never fits the model perfectly. To make this simulation more accurate, we can add some *noise* to the data.\n",
    "\n",
    "Let's assume for any given month, the percentage `total_monthly_sales` can vary follows a normal distribution. Where the average variation is 1% with a standard deviation of 6%."
   ]
  },
  {
   "cell_type": "code",
   "execution_count": null,
   "metadata": {},
   "outputs": [],
   "source": [
    "# Generate \"noise\" for all 100 points\n",
    "np.random.seed(0)\n",
    "noise = None\n",
    "plt.hist(noise);"
   ]
  },
  {
   "cell_type": "markdown",
   "metadata": {},
   "source": [
    "Recalculate monthly sales with `noise`"
   ]
  },
  {
   "cell_type": "code",
   "execution_count": null,
   "metadata": {},
   "outputs": [],
   "source": [
    "sales_with_noise = None"
   ]
  },
  {
   "cell_type": "markdown",
   "metadata": {},
   "source": [
    "Let's visualize the line from above along with the more realistic data points we created."
   ]
  },
  {
   "cell_type": "code",
   "execution_count": null,
   "metadata": {},
   "outputs": [],
   "source": [
    "# Replace None with appropriate variables\n",
    "\n",
    "plt.figure(figsize=(10,6))\n",
    "\n",
    "# Line plot of model\n",
    "plt.plot(None, None, label='Model', lw=2.5)\n",
    "\n",
    "# Scatter plot of data with noise\n",
    "plt.scatter(None, None, color='orange', label='Simulated Data')\n",
    "\n",
    "plt.title('Monthly Advertising Costs vs Estimated Total Sales', fontsize=18)\n",
    "plt.xlabel('Monthly Advertising Costs ($)', fontsize=15)\n",
    "plt.ylabel('Total Monthly Sales ($)', fontsize=15)\n",
    "plt.legend();"
   ]
  },
  {
   "cell_type": "markdown",
   "metadata": {},
   "source": [
    "Last thing to do is save the simulated data as a DataFrame."
   ]
  },
  {
   "cell_type": "code",
   "execution_count": null,
   "metadata": {},
   "outputs": [],
   "source": []
  },
  {
   "cell_type": "code",
   "execution_count": null,
   "metadata": {},
   "outputs": [],
   "source": []
  },
  {
   "cell_type": "markdown",
   "metadata": {},
   "source": [
    "## Example 4\n",
    "\n",
    "Create a simulated dataset based on real world data. We will be generating a full dataset to simulate the profits of a store by product category.\n",
    "\n",
    "Before we begin:\n",
    "- Simulated data should have a high level of *utility*\n",
    "- Maintain multivariate relationships\n",
    "\n",
    "Important to note the \"real\" data we will be using is actually simulated data itself."
   ]
  },
  {
   "cell_type": "code",
   "execution_count": null,
   "metadata": {},
   "outputs": [],
   "source": [
    "df = pd.read_csv('data/store-profits.csv', encoding='latin-1')\n",
    "df.head()"
   ]
  },
  {
   "cell_type": "markdown",
   "metadata": {},
   "source": [
    "Check shape of DataFrame"
   ]
  },
  {
   "cell_type": "code",
   "execution_count": null,
   "metadata": {},
   "outputs": [],
   "source": [
    "df.shape"
   ]
  },
  {
   "cell_type": "markdown",
   "metadata": {},
   "source": [
    "Reformat column names"
   ]
  },
  {
   "cell_type": "code",
   "execution_count": null,
   "metadata": {},
   "outputs": [],
   "source": [
    "df.columns = [col.replace(' ', '_').lower() for col in df.columns]\n",
    "df.head()"
   ]
  },
  {
   "cell_type": "markdown",
   "metadata": {},
   "source": [
    " Subset of `df` to only focus on `sub-category` and `profit`"
   ]
  },
  {
   "cell_type": "code",
   "execution_count": null,
   "metadata": {},
   "outputs": [],
   "source": [
    "profits_df = df[['sub-category', 'profit']]\n",
    "profits_df.head()"
   ]
  },
  {
   "cell_type": "markdown",
   "metadata": {},
   "source": [
    "Function below will be used to calculate the RMSE of two distributions as a metric for how well the model fits the data."
   ]
  },
  {
   "cell_type": "code",
   "execution_count": null,
   "metadata": {},
   "outputs": [],
   "source": [
    "def check_dist_fit(real, dist):\n",
    "    return np.sqrt(np.sum((real - dist) ** 2))"
   ]
  },
  {
   "cell_type": "markdown",
   "metadata": {},
   "source": [
    "### Simulating Profit Data - Part 1\n",
    "\n",
    "Let's begin by modeling the univariate distribution of `sub-category` alone and generating simulated data based on this model. \n",
    "\n",
    "Steps:\n",
    "- Explore `sub-category`\n",
    "- Model underlying distribution\n",
    "- Generate 10,000 simulated data points from this distribution"
   ]
  },
  {
   "cell_type": "code",
   "execution_count": null,
   "metadata": {},
   "outputs": [],
   "source": []
  },
  {
   "cell_type": "code",
   "execution_count": null,
   "metadata": {},
   "outputs": [],
   "source": []
  },
  {
   "cell_type": "markdown",
   "metadata": {},
   "source": [
    "### Simulating Profit Data - Part 2\n",
    "\n",
    "The next step will be modeling the univariate distribution of `profit`.\n",
    "\n",
    "Steps:\n",
    "- Explore `profit`\n",
    "- Model underlying distribution\n",
    "- Generate 10,000 sumulated data points from distribution"
   ]
  },
  {
   "cell_type": "code",
   "execution_count": null,
   "metadata": {},
   "outputs": [],
   "source": []
  },
  {
   "cell_type": "code",
   "execution_count": null,
   "metadata": {},
   "outputs": [],
   "source": []
  },
  {
   "cell_type": "markdown",
   "metadata": {},
   "source": [
    "### Explore Simulated Data\n",
    "\n",
    "Before diving into the final part of this example, let's combine the simulated `sub-category` data with the simulated `profit` and see how it aligns with our original dataset."
   ]
  },
  {
   "cell_type": "code",
   "execution_count": null,
   "metadata": {},
   "outputs": [],
   "source": []
  },
  {
   "cell_type": "code",
   "execution_count": null,
   "metadata": {},
   "outputs": [],
   "source": []
  },
  {
   "cell_type": "markdown",
   "metadata": {},
   "source": [
    "### Simulating Profit Data - Part 3\n",
    "\n",
    "Finally, let's model `sub-category` and `profit` together. We need to account for both the individual distribution of each variable as well as the relationship between them.\n",
    "\n",
    "Notes about final simulated sample:\n",
    "- Generate 10,000 total samples of `profit` and `sub-category`\n",
    "- Simulated data should have similar distribution for both variables\n",
    "- Maintain relationship between `profit` and `sub-category`"
   ]
  },
  {
   "cell_type": "code",
   "execution_count": null,
   "metadata": {},
   "outputs": [],
   "source": []
  },
  {
   "cell_type": "code",
   "execution_count": null,
   "metadata": {},
   "outputs": [],
   "source": []
  },
  {
   "cell_type": "markdown",
   "metadata": {},
   "source": [
    "## Example 5\n",
    "\n",
    "One of the most important aspects of generating simulated data is ensuring no private information is disclosed from the real data. All sensitive information should be removed or anonymized before released to the public. \n",
    "\n",
    "In this example we will use the [faker](https://faker.readthedocs.io/en/stable/fakerclass.html) library to help us anonymize customer names from the dataset above."
   ]
  },
  {
   "cell_type": "code",
   "execution_count": null,
   "metadata": {},
   "outputs": [],
   "source": []
  },
  {
   "cell_type": "code",
   "execution_count": null,
   "metadata": {},
   "outputs": [],
   "source": []
  },
  {
   "cell_type": "markdown",
   "metadata": {},
   "source": [
    "### Additional tools for generating simulated data:\n",
    "- [SMOTE](https://imbalanced-learn.org/stable/references/generated/imblearn.over_sampling.SMOTE.html)\n",
    "- [Python Package - SDV](https://sdv.dev/SDV/)\n",
    "- [Python Package - Gretel](https://synthetics.docs.gretel.ai/en/stable/#)\n",
    "- [Mockaroo](https://mockaroo.com/)"
   ]
  }
 ],
 "metadata": {
  "kernelspec": {
   "display_name": "Python (synthetic-data)",
   "language": "python",
   "name": "synthetic-data"
  },
  "language_info": {
   "codemirror_mode": {
    "name": "ipython",
    "version": 3
   },
   "file_extension": ".py",
   "mimetype": "text/x-python",
   "name": "python",
   "nbconvert_exporter": "python",
   "pygments_lexer": "ipython3",
   "version": "3.10.4"
  }
 },
 "nbformat": 4,
 "nbformat_minor": 4
}
